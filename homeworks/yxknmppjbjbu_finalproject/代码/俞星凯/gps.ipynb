{
 "cells": [
  {
   "cell_type": "code",
   "execution_count": 1,
   "metadata": {},
   "outputs": [
    {
     "name": "stdout",
     "output_type": "stream",
     "text": [
      "D:\\Resources\\Datasets\\深圳北站周边交通拥堵指数\n"
     ]
    }
   ],
   "source": [
    "import numpy as np\n",
    "import pandas as pd\n",
    "import matplotlib.pyplot as plt\n",
    "import warnings\n",
    "from geopy.distance import geodesic\n",
    "warnings.filterwarnings(\"ignore\")\n",
    "%cd D:\\Resources\\Datasets\\深圳北站周边交通拥堵指数"
   ]
  },
  {
   "cell_type": "code",
   "execution_count": 2,
   "metadata": {},
   "outputs": [],
   "source": [
    "# import moxing as mox\n",
    "# mox.file.copy_parallel('obs://yxkml/traffic', '.')"
   ]
  },
  {
   "cell_type": "code",
   "execution_count": null,
   "metadata": {},
   "outputs": [],
   "source": [
    "lands = np.array([[(22.587644,114.018583), (22.588694,114.021737), (22.589625,114.024377), (22.590536,114.026844)], \n",
    "                  [(22.589526,114.015493), (22.593686,114.015987), (22.597192,114.016480), (22.601392,114.016652)], \n",
    "                  [(22.605255,114.018604), (22.608999,114.021308), (22.610029,114.023947), (22.610920,114.026329)], \n",
    "                  [(22.594082,114.029956), (22.597688,114.031501), (22.600719,114.029698), (22.603690,114.027209)], \n",
    "                  [(22.602601,114.036436), (22.607434,114.032359), (22.611673,114.028582), (22.614525,114.024720)], \n",
    "                  [(22.608465,114.025595), (22.606305,114.027290), (22.604661,114.028664), (22.603096,114.030080)]])\n",
    "directions = np.array([90, 270, 0, 180, 90, 270, 0, 180, 0, 180, 180, 0])\n",
    "id_roads = np.array([276183, 276184, 275911, 275912, 276240, 276241, \n",
    "                     276264, 276265, 276268, 276269, 276737, 276738])\n",
    "times = pd.date_range('2018-12-31 00:00:00', '2019-04-01 00:00:00', freq='10T')\n",
    "times = pd.date_range('2019-9-30 00:00:00', '2019-12-01 00:00:00', freq='10T')\n",
    "times = pd.date_range('2019-11-30 00:00:00', '2019-12-22 00:00:00', freq='10T')\n",
    "times = pd.date_range('2019-12-20 00:00:00', '2020-01-02 00:00:00', freq='10T')\n",
    "total = pd.DataFrame(0, index=id_roads, columns=times)\n",
    "count = pd.DataFrame(0, index=id_roads, columns=times)"
   ]
  },
  {
   "cell_type": "code",
   "execution_count": null,
   "metadata": {},
   "outputs": [],
   "source": [
    "fp = open('D:/Resources/Datasets/深圳北站周边交通拥堵指数/toPredict_train_gps.csv')\n",
    "c = 0\n",
    "dis = np.zeros((6, 4))\n",
    "while True:\n",
    "    lst = fp.readlines(1024*1024*1024)\n",
    "    c = c + 1\n",
    "    print(c, 'G')\n",
    "    if not lst:\n",
    "        break\n",
    "    for s in lst:\n",
    "        s = s[s.find('[')+1:s.find(']')]\n",
    "        for array in s.split(', '):\n",
    "            array = eval(array.replace(' ', ','))\n",
    "            for i in range(6):\n",
    "                for j in range(4):\n",
    "                    dis[i, j] = geodesic((array[1], array[0]), lands[i ,j]).m\n",
    "            i = dis.min(1).argmin()\n",
    "            i = 2*i+np.abs(directions[2*i:2*i+2] - array[3]).argmin()\n",
    "            t = pd.Timestamp(array[4], unit='s').floor('10T')\n",
    "            total.loc[id_roads[i], t] += array[2]\n",
    "            count.loc[id_roads[i], t] += 1\n",
    "fp.close()"
   ]
  },
  {
   "cell_type": "code",
   "execution_count": null,
   "metadata": {},
   "outputs": [],
   "source": [
    "df = total / count\n",
    "df.to_csv('toPredict_train_speed.csv')\n",
    "count.to_csv('toPredict_train_count.csv')"
   ]
  },
  {
   "cell_type": "code",
   "execution_count": 3,
   "metadata": {},
   "outputs": [],
   "source": [
    "# 合并三个GPS的speed\n",
    "df1 = pd.read_csv('201901_201903_speed.csv', index_col='id_road')\n",
    "df2 = pd.read_csv('201910_11_speed.csv', index_col='id_road')\n",
    "df3 = pd.read_csv('20191201_20191220_speed.csv', index_col='id_road')\n",
    "df1.fillna(method='ffill', inplace=True, axis=1)\n",
    "df2.fillna(method='ffill', inplace=True, axis=1)\n",
    "df3.fillna(method='ffill', inplace=True, axis=1)\n",
    "df4 = df1.iloc[:, 144:-1].join(df2.iloc[:, 144:-1]).join(df3.iloc[:, 144:-1])\n",
    "df4.columns = pd.to_datetime(df4.columns)"
   ]
  },
  {
   "cell_type": "code",
   "execution_count": 4,
   "metadata": {},
   "outputs": [],
   "source": [
    "# 合并三个GPS的count\n",
    "df1 = pd.read_csv('201901_201903_count.csv', index_col='id_road')\n",
    "df2 = pd.read_csv('201910_11_count.csv', index_col='id_road')\n",
    "df3 = pd.read_csv('20191201_20191220_count.csv', index_col='id_road')\n",
    "df1.replace(0, np.nan, inplace=True)\n",
    "df2.replace(0, np.nan, inplace=True)\n",
    "df3.replace(0, np.nan, inplace=True)\n",
    "df1 = df1.fillna(method='ffill', axis=1)\n",
    "df2 = df2.fillna(method='ffill', axis=1)\n",
    "df3 = df3.fillna(method='ffill', axis=1)\n",
    "df5 = df1.iloc[:, 144:-1].join(df2.iloc[:, 144:-1]).join(df3.iloc[:, 144:-1])\n",
    "df5.columns = pd.to_datetime(df5.columns)"
   ]
  },
  {
   "cell_type": "code",
   "execution_count": 5,
   "metadata": {},
   "outputs": [],
   "source": [
    "# 加入carspeed和count\n",
    "df6 = pd.read_csv('train_TTI_fillna.csv')\n",
    "df6['time'] = pd.to_datetime(df6['time'])\n",
    "df6['carspeed'] = 0\n",
    "df6['count'] = 0\n",
    "for i in df6.index:\n",
    "    df6.loc[i, 'carspeed'] = df4.loc[df6.loc[i, 'id_road'], df6.loc[i, 'time']]\n",
    "    df6.loc[i, 'count'] = df5.loc[df6.loc[i, 'id_road'], df6.loc[i, 'time']]"
   ]
  },
  {
   "cell_type": "code",
   "execution_count": 6,
   "metadata": {},
   "outputs": [],
   "source": [
    "# df6.to_csv('train_TTI_fillna_carspeed_count.csv', index=False)"
   ]
  },
  {
   "cell_type": "code",
   "execution_count": 7,
   "metadata": {},
   "outputs": [
    {
     "data": {
      "text/html": [
       "<div>\n",
       "<style scoped>\n",
       "    .dataframe tbody tr th:only-of-type {\n",
       "        vertical-align: middle;\n",
       "    }\n",
       "\n",
       "    .dataframe tbody tr th {\n",
       "        vertical-align: top;\n",
       "    }\n",
       "\n",
       "    .dataframe thead th {\n",
       "        text-align: right;\n",
       "    }\n",
       "</style>\n",
       "<table border=\"1\" class=\"dataframe\">\n",
       "  <thead>\n",
       "    <tr style=\"text-align: right;\">\n",
       "      <th></th>\n",
       "      <th>id_road</th>\n",
       "      <th>TTI</th>\n",
       "      <th>speed</th>\n",
       "      <th>carspeed</th>\n",
       "      <th>count</th>\n",
       "    </tr>\n",
       "  </thead>\n",
       "  <tbody>\n",
       "    <tr>\n",
       "      <th>id_road</th>\n",
       "      <td>1.000000</td>\n",
       "      <td>0.263261</td>\n",
       "      <td>-0.677130</td>\n",
       "      <td>0.004982</td>\n",
       "      <td>0.035215</td>\n",
       "    </tr>\n",
       "    <tr>\n",
       "      <th>TTI</th>\n",
       "      <td>0.263261</td>\n",
       "      <td>1.000000</td>\n",
       "      <td>-0.592766</td>\n",
       "      <td>0.002093</td>\n",
       "      <td>-0.046711</td>\n",
       "    </tr>\n",
       "    <tr>\n",
       "      <th>speed</th>\n",
       "      <td>-0.677130</td>\n",
       "      <td>-0.592766</td>\n",
       "      <td>1.000000</td>\n",
       "      <td>-0.003638</td>\n",
       "      <td>-0.052217</td>\n",
       "    </tr>\n",
       "    <tr>\n",
       "      <th>carspeed</th>\n",
       "      <td>0.004982</td>\n",
       "      <td>0.002093</td>\n",
       "      <td>-0.003638</td>\n",
       "      <td>1.000000</td>\n",
       "      <td>-0.002583</td>\n",
       "    </tr>\n",
       "    <tr>\n",
       "      <th>count</th>\n",
       "      <td>0.035215</td>\n",
       "      <td>-0.046711</td>\n",
       "      <td>-0.052217</td>\n",
       "      <td>-0.002583</td>\n",
       "      <td>1.000000</td>\n",
       "    </tr>\n",
       "  </tbody>\n",
       "</table>\n",
       "</div>"
      ],
      "text/plain": [
       "           id_road       TTI     speed  carspeed     count\n",
       "id_road   1.000000  0.263261 -0.677130  0.004982  0.035215\n",
       "TTI       0.263261  1.000000 -0.592766  0.002093 -0.046711\n",
       "speed    -0.677130 -0.592766  1.000000 -0.003638 -0.052217\n",
       "carspeed  0.004982  0.002093 -0.003638  1.000000 -0.002583\n",
       "count     0.035215 -0.046711 -0.052217 -0.002583  1.000000"
      ]
     },
     "execution_count": 7,
     "metadata": {},
     "output_type": "execute_result"
    }
   ],
   "source": [
    "df6.corr()"
   ]
  },
  {
   "cell_type": "code",
   "execution_count": 8,
   "metadata": {},
   "outputs": [],
   "source": [
    "# 加入carspeed和count\n",
    "df7 = pd.read_csv('toPredict_train_speed.csv', index_col='id_road')\n",
    "df7.fillna(method='ffill', inplace=True, axis=1)\n",
    "df7.columns = pd.to_datetime(df7.columns)\n",
    "df8 = pd.read_csv('toPredict_train_count.csv', index_col='id_road')\n",
    "df8.replace(0, np.nan, inplace=True)\n",
    "df8 = df8.fillna(method='ffill', axis=1)\n",
    "df8.columns = pd.to_datetime(df8.columns)\n",
    "df9 = pd.read_csv('toPredict_train_TTI.csv')\n",
    "df9['time'] = pd.to_datetime(df9['time'])\n",
    "df9['carspeed'] = 0\n",
    "df9['count'] = 0\n",
    "for i in df9.index:\n",
    "    df9.loc[i, 'carspeed'] = df7.loc[df9.loc[i, 'id_road'], df9.loc[i, 'time']]\n",
    "    df9.loc[i, 'carspeed'] = df8.loc[df9.loc[i, 'id_road'], df9.loc[i, 'time']]\n",
    "# df9.to_csv('toPredict_train_TTI_carspeed_count.csv', index=False)"
   ]
  }
 ],
 "metadata": {
  "kernelspec": {
   "display_name": "Python 3",
   "language": "python",
   "name": "python3"
  },
  "language_info": {
   "codemirror_mode": {
    "name": "ipython",
    "version": 3
   },
   "file_extension": ".py",
   "mimetype": "text/x-python",
   "name": "python",
   "nbconvert_exporter": "python",
   "pygments_lexer": "ipython3",
   "version": "3.7.7"
  }
 },
 "nbformat": 4,
 "nbformat_minor": 4
}
