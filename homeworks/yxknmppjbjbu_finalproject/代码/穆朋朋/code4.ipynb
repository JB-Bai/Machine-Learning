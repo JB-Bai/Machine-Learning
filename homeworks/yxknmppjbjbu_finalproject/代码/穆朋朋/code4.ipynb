{
 "cells": [
  {
   "cell_type": "code",
   "execution_count": 1,
   "metadata": {
    "tags": []
   },
   "outputs": [
    {
     "output_type": "stream",
     "name": "stdout",
     "text": "e:\\python_project\\MLPS7\n"
    }
   ],
   "source": [
    "# 使用gps提取的特征完成lightGBM训练；\n",
    "# 由于gps文件过大，使用华为云不采样估计需要处理几十天。\n",
    "# 且由于时间限制，设置采样率为1/400，和1/200运行两次；由于丢失了绝大部分数据，对成绩基本没有提升。\n",
    "# 1/200的相对1/400的在和TTI的相关系数上有10倍的提升，虽然仍然不够，但此方法是有用的，只是时间和算力上不允许。\n",
    "import numpy as np\n",
    "import pandas as pd\n",
    "from lightgbm import LGBMRegressor\n",
    "import warnings\n",
    "warnings.filterwarnings(\"ignore\")\n",
    "%cd E:\\python_project\\MLPS7"
   ]
  },
  {
   "cell_type": "code",
   "execution_count": 12,
   "metadata": {
    "tags": []
   },
   "outputs": [
    {
     "output_type": "stream",
     "name": "stdout",
     "text": "id_road       TTI     speed  carspeed     count\nid_road   1.000000  0.263261 -0.677130  0.004982  0.035215\nTTI       0.263261  1.000000 -0.592766  0.002093 -0.046711\nspeed    -0.677130 -0.592766  1.000000 -0.003638 -0.052217\ncarspeed  0.004982  0.002093 -0.003638  1.000000 -0.002583\ncount     0.035215 -0.046711 -0.052217 -0.002583  1.000000\n"
    }
   ],
   "source": [
    "# 需要修改下下面的文件名\n",
    "df3 = pd.read_csv('train_TTI_fillna_carspeed_count.csv')\n",
    "df3['time'] = pd.to_datetime(df3['time'])\n",
    "#df3['hour']=[x.hour+x.minute/60 for x in df3['time']] \n",
    "print(df3.corr())"
   ]
  },
  {
   "cell_type": "code",
   "execution_count": 13,
   "metadata": {},
   "outputs": [],
   "source": [
    "# 训练集数据处理1: 6+6+3+6，6 TTI, 3 speed, 3 TTI, 6 carSpeed(想要预测的值)\n",
    "# 将来如果得到预测集的3 speed，则可以变为6+6+3+6\n",
    "id_road = df3['id_road'].unique()   # 共12条road\n",
    "period1 = pd.date_range('2019-01-01 00:00:00', '2019-03-31 23:50:00', freq='10T')\n",
    "period2 = pd.date_range('2019-10-01 00:00:00', '2019-12-21 23:50:00', freq='10T')\n",
    "period = period1.append(period2)\n",
    "index = pd.MultiIndex.from_product([id_road, period1.append(period2)])\n",
    "columnsList=['TTI0','TTI1','TTI2','TTI3','TTI4','TTI5',\n",
    "            'speed0','speed1','speed2','speed3','speed4','speed5',\n",
    "            'TTI6','TTI7','TTI8',\n",
    "            'carSpeed0','carspeed1','carSpeed2','carSpeed3','carSpeed4','carSpeed5','aveCarSpeed',\n",
    "            'count0','count1', 'count2','count3', 'count4','count5','aveCount']\n",
    "df4 = pd.DataFrame(0, index=index, columns=columnsList)\n",
    "for name, group in df3.groupby('id_road'):\n",
    "    # df3行数：6*24*172*12, 解释：每天6*24条记录，172天，12条road\n",
    "    matrix = np.zeros((6*24*172, 6+6+3+7+7))\n",
    "    tti = group['TTI'].values\n",
    "    speed = group['speed'].values\n",
    "    carSpeed=group['carspeed'].values\n",
    "    count=group['count'].values\n",
    "    i = 6\n",
    "    for j in range(6, 6*24*90-2):   # 前90天\n",
    "        matrix[i,0:6] = tti[j-6:j]\n",
    "        matrix[i,6:12] = speed[j-6:j]\n",
    "        matrix[i,12:15] = tti[j:j+3]\n",
    "        matrix[i,15:21] = carSpeed[j-6:j]\n",
    "        matrix[i,21]=np.sum(carSpeed[j-6:j])/6\n",
    "        matrix[i,22:28]=count[j-6:j]\n",
    "        matrix[i,28]=np.sum(count[j-6:j])/6\n",
    "        i += 1\n",
    "    i += 8\n",
    "    for j in range(6*24*90+6, 6*24*172-2):  # 后172-90天\n",
    "        matrix[i,0:6] = tti[j-6:j]\n",
    "        matrix[i,6:12] = speed[j-6:j]\n",
    "        matrix[i,12:15] = tti[j:j+3]\n",
    "        matrix[i,15:21] = carSpeed[j-6:j]\n",
    "        matrix[i,21]=np.sum(carSpeed[j-6:j])/6\n",
    "        matrix[i,22:28]=count[j-6:j]\n",
    "        matrix[i,28]=np.sum(count[j-6:j])/6\n",
    "        i += 1\n",
    "    df4.loc[name] = matrix\n",
    "df4.index.names = ['id_road', 'time']\n",
    "df4=df4.loc[df4['TTI0']>0]\n",
    "df4.to_csv('train_TTI_6+6+3+7+7.csv')\n",
    "#df4"
   ]
  },
  {
   "cell_type": "code",
   "execution_count": 14,
   "metadata": {},
   "outputs": [],
   "source": [
    "# 训练集数据处理2: 添加特征\n",
    "import calendar\n",
    "df5 = pd.read_csv('train_TTI_6+6+3+7+7.csv')\n",
    "df5['time']=pd.to_datetime(df5['time'])\n",
    "# 添加是否放假的特征\n",
    "month_day=[[x.month,x.day] for x in df5['time']]\n",
    "weekday=[calendar.weekday(x.year,x.month,x.day) for x in df5['time']]\n",
    "holidayList=[[1,1],[2,4],[2,5],[2,6],[2,7],[2,8],[2,9],[2,10],[10,1],[10,2],[10,3],[10,4],[10,5],[10,6],[10,7]]\n",
    "workdayList=[[2,2],[2,3],[10,12]]\n",
    "\n",
    "isHoliday=np.zeros(np.size(weekday))\n",
    "for i in range(np.size(weekday)):\n",
    "    if month_day[i] in holidayList:\n",
    "        isHoliday[i]=1.0\n",
    "    elif weekday[i]>=5:\n",
    "        isHoliday[i]=1.0\n",
    "    else:\n",
    "        isHoliday[i]=0.0\n",
    "    if month_day[i] in workdayList:\n",
    "        isHoliday[i]=0.0\n",
    "df5['isHoliday']=isHoliday\n",
    "df5['weekday']=weekday\n",
    "df5.to_csv('train_TTI_6+6+3+7+7_more.csv',index=0)"
   ]
  },
  {
   "cell_type": "code",
   "execution_count": 23,
   "metadata": {
    "tags": []
   },
   "outputs": [
    {
     "output_type": "stream",
     "name": "stdout",
     "text": "id_road      TTI0      TTI1      TTI2      TTI3      TTI4  \\\nid_road      1.000000e+00  0.263144  0.263115  0.263102  0.263123  0.263155   \nTTI0         2.631442e-01  1.000000  0.890297  0.782578  0.710035  0.658986   \nTTI1         2.631151e-01  0.890297  1.000000  0.890323  0.782670  0.710126   \nTTI2         2.631023e-01  0.782578  0.890323  1.000000  0.890336  0.782680   \nTTI3         2.631234e-01  0.710035  0.782670  0.890336  1.000000  0.890337   \nTTI4         2.631548e-01  0.658986  0.710126  0.782680  0.890337  1.000000   \nTTI5         2.631735e-01  0.618431  0.659076  0.710140  0.782680  0.890334   \nspeed0      -6.770207e-01 -0.592764 -0.566761 -0.537874 -0.513184 -0.491079   \nspeed1      -6.770256e-01 -0.567401 -0.592747 -0.566739 -0.537884 -0.513200   \nspeed2      -6.770272e-01 -0.538816 -0.567394 -0.592733 -0.566751 -0.537899   \nspeed3      -6.770344e-01 -0.515558 -0.538835 -0.567388 -0.592744 -0.566765   \nspeed4      -6.770464e-01 -0.495206 -0.515583 -0.538832 -0.567398 -0.592758   \nspeed5      -6.770560e-01 -0.476892 -0.495229 -0.515578 -0.538838 -0.567410   \nTTI6         2.631903e-01  0.583717  0.618522  0.659092  0.710139  0.782677   \nTTI7         2.632023e-01  0.548948  0.583813  0.618541  0.659085  0.710126   \nTTI8         2.632176e-01  0.514488  0.549049  0.583834  0.618534  0.659073   \ncarSpeed0    4.983519e-03  0.002092  0.002874  0.002760  0.001978  0.001174   \ncarspeed1    4.983525e-03  0.001133  0.002093  0.002874  0.002760  0.001978   \ncarSpeed2    4.983528e-03 -0.000125  0.001133  0.002093  0.002874  0.002760   \ncarSpeed3    4.983528e-03  0.000378 -0.000125  0.001133  0.002093  0.002874   \ncarSpeed4    4.983529e-03  0.000051  0.000378 -0.000125  0.001133  0.002092   \ncarSpeed5    4.983533e-03 -0.000040  0.000051  0.000378 -0.000125  0.001132   \naveCarSpeed  1.169262e-02  0.001364  0.002505  0.003564  0.004189  0.004696   \ncount0       3.536146e-02 -0.046633 -0.045674 -0.044513 -0.043115 -0.041662   \ncount1       3.533981e-02 -0.047764 -0.046646 -0.045690 -0.044531 -0.043135   \ncount2       3.531793e-02 -0.048841 -0.047780 -0.046664 -0.045709 -0.044552   \ncount3       3.529718e-02 -0.050057 -0.048852 -0.047795 -0.046682 -0.045728   \ncount4       3.527772e-02 -0.051218 -0.050068 -0.048866 -0.047812 -0.046700   \ncount5       3.525711e-02 -0.051909 -0.051229 -0.050082 -0.048883 -0.047829   \naveCount     3.588628e-02 -0.050213 -0.049167 -0.048043 -0.046877 -0.045670   \nisHoliday   -2.797753e-15 -0.036278 -0.036624 -0.036741 -0.036611 -0.036676   \nweekday      2.098830e-16 -0.000266 -0.000078  0.000271  0.000695  0.000821   \nmonth        1.293504e-14 -0.013661 -0.013714 -0.013748 -0.013766 -0.013783   \nhour         9.521839e-17  0.186135  0.186795  0.187466  0.186694  0.183941   \nTTI          2.631903e-01  0.583717  0.618522  0.659092  0.710139  0.782677   \n\n                 TTI5    speed0    speed1    speed2  ...    count2    count3  \\\nid_road      0.263173 -0.677021 -0.677026 -0.677027  ...  0.035318  0.035297   \nTTI0         0.618431 -0.592764 -0.567401 -0.538816  ... -0.048841 -0.050057   \nTTI1         0.659076 -0.566761 -0.592747 -0.567394  ... -0.047780 -0.048852   \nTTI2         0.710140 -0.537874 -0.566739 -0.592733  ... -0.046664 -0.047795   \nTTI3         0.782680 -0.513184 -0.537884 -0.566751  ... -0.045709 -0.046682   \nTTI4         0.890334 -0.491079 -0.513200 -0.537899  ... -0.044552 -0.045728   \nTTI5         1.000000 -0.470854 -0.491092 -0.513211  ... -0.043154 -0.044570   \nspeed0      -0.470854  1.000000  0.978636  0.956505  ... -0.050705 -0.049923   \nspeed1      -0.491092  0.978636  1.000000  0.978635  ... -0.051450 -0.050697   \nspeed2      -0.513211  0.956505  0.978635  1.000000  ... -0.052275 -0.051432   \nspeed3      -0.537906  0.937375  0.956507  0.978636  ... -0.053218 -0.052253   \nspeed4      -0.566772  0.919515  0.937382  0.956511  ... -0.054283 -0.053195   \nspeed5      -0.592765  0.902939  0.919522  0.937384  ... -0.055481 -0.054260   \nTTI6         0.890335 -0.451376 -0.470868 -0.491103  ... -0.041703 -0.043174   \nTTI7         0.782673 -0.432165 -0.451389 -0.470877  ... -0.040561 -0.041723   \nTTI8         0.710123 -0.413642 -0.432182 -0.451401  ... -0.039609 -0.040581   \ncarSpeed0    0.001268 -0.003638 -0.004147 -0.003967  ... -0.002517 -0.002443   \ncarspeed1    0.001173 -0.003282 -0.003638 -0.004147  ... -0.002574 -0.002517   \ncarSpeed2    0.001978 -0.002917 -0.003282 -0.003638  ... -0.002583 -0.002574   \ncarSpeed3    0.002759 -0.003132 -0.002917 -0.003282  ... -0.002550 -0.002583   \ncarSpeed4    0.002874 -0.003078 -0.003132 -0.002917  ... -0.002467 -0.002550   \ncarSpeed5    0.002092 -0.003130 -0.003078 -0.003132  ... -0.002609 -0.002467   \naveCarSpeed  0.004749 -0.007499 -0.007897 -0.008244  ... -0.005983 -0.005919   \ncount0      -0.040518 -0.052304 -0.053260 -0.054330  ...  0.965123  0.953675   \ncount1      -0.041681 -0.051460 -0.052295 -0.053241  ...  0.978332  0.965140   \ncount2      -0.043154 -0.050705 -0.051450 -0.052275  ...  1.000000  0.978343   \ncount3      -0.044570 -0.049923 -0.050697 -0.051432  ...  0.978343  1.000000   \ncount4      -0.045745 -0.049215 -0.049916 -0.050681  ...  0.965158  0.978354   \ncount5      -0.046716 -0.048693 -0.049207 -0.049898  ...  0.953722  0.965176   \naveCount    -0.044447 -0.051207 -0.051974 -0.052826  ...  0.989373  0.989379   \nisHoliday   -0.036771  0.068047  0.068550  0.068936  ... -0.029739 -0.029065   \nweekday      0.000871  0.017913  0.018037  0.018060  ...  0.010436  0.010995   \nmonth       -0.013795 -0.048319 -0.048299 -0.048279  ...  0.185823  0.185863   \nhour         0.179558 -0.249748 -0.249146 -0.247946  ... -0.169378 -0.167669   \nTTI          0.890335 -0.451376 -0.470868 -0.491103  ... -0.041703 -0.043174   \n\n               count4    count5  aveCount     isHoliday       weekday  \\\nid_road      0.035278  0.035257  0.035886 -2.797753e-15  2.098830e-16   \nTTI0        -0.051218 -0.051909 -0.050213 -3.627775e-02 -2.656406e-04   \nTTI1        -0.050068 -0.051229 -0.049167 -3.662423e-02 -7.758764e-05   \nTTI2        -0.048866 -0.050082 -0.048043 -3.674130e-02  2.712656e-04   \nTTI3        -0.047812 -0.048883 -0.046877 -3.661051e-02  6.947297e-04   \nTTI4        -0.046700 -0.047829 -0.045670 -3.667625e-02  8.206375e-04   \nTTI5        -0.045745 -0.046716 -0.044447 -3.677104e-02  8.713448e-04   \nspeed0      -0.049215 -0.048693 -0.051207  6.804668e-02  1.791285e-02   \nspeed1      -0.049916 -0.049207 -0.051974  6.854955e-02  1.803720e-02   \nspeed2      -0.050681 -0.049898 -0.052826  6.893583e-02  1.805962e-02   \nspeed3      -0.051412 -0.050660 -0.053761  6.914896e-02  1.800274e-02   \nspeed4      -0.052232 -0.051391 -0.054794  6.934261e-02  1.803175e-02   \nspeed5      -0.053174 -0.052211 -0.055892  6.953031e-02  1.807752e-02   \nTTI6        -0.044589 -0.045763 -0.043253 -3.681675e-02  8.767791e-04   \nTTI7        -0.043194 -0.044607 -0.042028 -3.669630e-02  8.326360e-04   \nTTI8        -0.041742 -0.043211 -0.040756 -3.669733e-02  7.071707e-04   \ncarSpeed0   -0.002413 -0.002263 -0.002506 -1.798621e-03  8.141225e-04   \ncarspeed1   -0.002443 -0.002414 -0.002555 -1.636375e-03  9.563051e-04   \ncarSpeed2   -0.002517 -0.002443 -0.002564 -1.636511e-03  9.562221e-04   \ncarSpeed3   -0.002575 -0.002518 -0.002592 -1.636645e-03  9.561609e-04   \ncarSpeed4   -0.002583 -0.002575 -0.002611 -1.676173e-03  9.039352e-04   \ncarSpeed5   -0.002550 -0.002584 -0.002634 -1.676307e-03  9.038843e-04   \naveCarSpeed -0.005898 -0.005786 -0.006046 -3.934134e-03  2.147069e-03   \ncount0       0.941768  0.928096  0.976881 -3.058950e-02  9.581416e-03   \ncount1       0.953699  0.941797  0.985406 -3.024496e-02  9.999482e-03   \ncount2       0.965158  0.953722  0.989373 -2.973860e-02  1.043595e-02   \ncount3       0.978354  0.965176  0.989379 -2.906511e-02  1.099544e-02   \ncount4       1.000000  0.978365  0.985430 -2.830219e-02  1.155177e-02   \ncount5       0.978365  1.000000  0.976932 -2.747347e-02  1.210647e-02   \naveCount     0.985430  0.976932  1.000000 -2.971356e-02  1.095517e-02   \nisHoliday   -0.028302 -0.027473 -0.029714  1.000000e+00  6.380356e-01   \nweekday      0.011552  0.012106  0.010955  6.380356e-01  1.000000e+00   \nmonth        0.185903  0.185941  0.188883 -8.882787e-03 -5.518981e-04   \nhour        -0.164404 -0.159654 -0.169110  7.521680e-04 -1.168130e-03   \nTTI         -0.044589 -0.045763 -0.043253 -3.681675e-02  8.767791e-04   \n\n                    month          hour       TTI  \nid_road      1.293504e-14  9.521839e-17  0.263190  \nTTI0        -1.366129e-02  1.861348e-01  0.583717  \nTTI1        -1.371385e-02  1.867952e-01  0.618522  \nTTI2        -1.374788e-02  1.874664e-01  0.659092  \nTTI3        -1.376568e-02  1.866938e-01  0.710139  \nTTI4        -1.378332e-02  1.839414e-01  0.782677  \nTTI5        -1.379525e-02  1.795577e-01  0.890335  \nspeed0      -4.831912e-02 -2.497478e-01 -0.451376  \nspeed1      -4.829852e-02 -2.491460e-01 -0.470868  \nspeed2      -4.827882e-02 -2.479462e-01 -0.491103  \nspeed3      -4.826814e-02 -2.452048e-01 -0.513215  \nspeed4      -4.825660e-02 -2.409806e-01 -0.537910  \nspeed5      -4.824789e-02 -2.356986e-01 -0.566778  \nTTI6        -1.380701e-02  1.742444e-01  1.000000  \nTTI7        -1.381428e-02  1.683997e-01  0.890332  \nTTI8        -1.382044e-02  1.617943e-01  0.782672  \ncarSpeed0   -9.477193e-03  3.067151e-03  0.001275  \ncarspeed1   -9.477189e-03  3.685704e-03  0.001268  \ncarSpeed2   -9.477186e-03  3.425917e-03  0.001173  \ncarSpeed3   -9.477182e-03  3.165994e-03  0.001978  \ncarSpeed4   -9.493128e-03  3.263494e-03  0.002759  \ncarSpeed5   -9.493128e-03  3.003454e-03  0.002873  \naveCarSpeed -2.224836e-02  7.669013e-03  0.004429  \ncount0       1.857379e-01 -1.678218e-01 -0.039568  \ncount1       1.857818e-01 -1.694067e-01 -0.040539  \ncount2       1.858225e-01 -1.693777e-01 -0.041703  \ncount3       1.858630e-01 -1.676689e-01 -0.043174  \ncount4       1.859029e-01 -1.644040e-01 -0.044589  \ncount5       1.859413e-01 -1.596538e-01 -0.045763  \naveCount     1.888826e-01 -1.691103e-01 -0.043253  \nisHoliday   -8.882787e-03  7.521680e-04 -0.036817  \nweekday     -5.518981e-04 -1.168130e-03  0.000877  \nmonth        1.000000e+00 -2.085399e-04 -0.013807  \nhour        -2.085399e-04  1.000000e+00  0.174244  \nTTI         -1.380701e-02  1.742444e-01  1.000000  \n\n[35 rows x 35 columns]\n"
    }
   ],
   "source": [
    "# 相关系数\n",
    "df9=df5\n",
    "df9['TTI']=df9['TTI6']\n",
    "print(df9.corr())\n"
   ]
  },
  {
   "cell_type": "code",
   "execution_count": 16,
   "metadata": {},
   "outputs": [],
   "source": [
    "# 测试集数据处理0:  将toPredict_nolabel.csv和toPredict_train_TTI.csv合并为一个直接可以给模型调用的文件\n",
    "# 列向量：id_road\tTTI\tspeed\ttime\tid_sample   carspeed    count   index\n",
    "# 需要先填充index: 0到n-1\n",
    "data_test = pd.read_csv('toPredict_Xy+6+6.csv')\n",
    "data_test['time']=pd.to_datetime(data_test['time'])\n",
    "data_test['index']=data_test.index\n",
    "data_test['index']=[int(x/9) for x in data_test['index']]\n",
    "Xy_test_new=pd.DataFrame(columns=['id_road','time','TTI0','TTI1','TTI2','TTI3','TTI4','TTI5','speed0','speed1','speed2','speed3','speed4','speed5','id_sample0','id_sample1','id_sample2',\n",
    "'carSpeed0','carspeed1','carSpeed2','carSpeed3','carSpeed4','carSpeed5','aveCarSpeed',\n",
    "'count0','count1', 'count2','count3', 'count4','count5','aveCount'])\n",
    "for index,group in data_test.groupby('index'):\n",
    "    ttl=group['TTI'].values\n",
    "    id_road=group.iloc[0,0]\n",
    "    speed=group['speed'].values\n",
    "    id_sample=group['id_sample'].values\n",
    "    carSpeed=group['carspeed'].values\n",
    "    aveCarSpeed=np.sum(carSpeed[0:6])/6\n",
    "    count=group['count'].values\n",
    "    aveCount=np.sum(count[0:6])/6\n",
    "    time=group['time'].values\n",
    "    Xy_test_new.loc[len(Xy_test_new)]=[id_road,time[6],ttl[0],ttl[1],ttl[2],ttl[3],ttl[4],ttl[5],speed[0],speed[1],speed[2],speed[3],speed[4],speed[5],id_sample[6],id_sample[7],id_sample[8],carSpeed[0],carSpeed[1],carSpeed[2],carSpeed[3],carSpeed[4],carSpeed[5],aveCarSpeed,count[0],count[1],count[2],count[3],count[4],count[5],aveCount]\n",
    "Xy_test_new.to_csv('test_6+6+3+7+7.csv',index=0)"
   ]
  },
  {
   "cell_type": "code",
   "execution_count": 17,
   "metadata": {},
   "outputs": [],
   "source": [
    "# 测试集数据处理1: 添加特征\n",
    "import calendar\n",
    "Xy_test_new = pd.read_csv('test_6+6+3+7+7.csv')\n",
    "Xy_test_new['time']=pd.to_datetime(Xy_test_new['time'])\n",
    "# 添加是否放假的特征\n",
    "month_day=[[x.month,x.day] for x in Xy_test_new['time']]\n",
    "weekday=[calendar.weekday(x.year,x.month,x.day) for x in Xy_test_new['time']]\n",
    "holidayList=[[1,1],[2,4],[2,5],[2,6],[2,7],[2,8],[2,9],[2,10],[10,1],[10,2],[10,3],[10,4],[10,5],[10,6],[10,7]]\n",
    "workdayList=[[2,2],[2,3],[10,12]]\n",
    "\n",
    "isHoliday=np.zeros(np.size(weekday))\n",
    "for i in range(np.size(weekday)):\n",
    "    if month_day[i] in holidayList:\n",
    "        isHoliday[i]=1.0\n",
    "    elif weekday[i]>=5:\n",
    "        isHoliday[i]=1.0\n",
    "    else:\n",
    "        isHoliday[i]=0.0\n",
    "    if month_day[i] in workdayList:\n",
    "        isHoliday[i]=0.0\n",
    "Xy_test_new['isHoliday']=isHoliday\n",
    "Xy_test_new['weekday']=weekday\n",
    "Xy_test_new.to_csv('test_6+6+3+7+7_more.csv',index=0)"
   ]
  },
  {
   "cell_type": "code",
   "execution_count": 29,
   "metadata": {},
   "outputs": [
    {
     "output_type": "execute_result",
     "data": {
      "text/plain": "array([1.07042657, 1.08290749, 1.1783111 , ..., 1.62108211, 1.58583826,\n       1.57086469])"
     },
     "metadata": {},
     "execution_count": 29
    }
   ],
   "source": [
    "df5 = pd.read_csv('train_TTI_6+6+3+7+7_more.csv')\n",
    "df5['time']=pd.to_datetime(df5['time'])\n",
    "df5['month']=[x.month for x in df5['time']]\n",
    "data_train = df5\n",
    "data_train['hour']=[x.hour+x.minute/60 for x in data_train['time']]    # 只保留小时和分\n",
    "data_train=data_train.loc[data_train['hour']>=7.5]\n",
    "data_train=data_train.loc[data_train['hour']<=19]\n",
    "#display(data_train)\n",
    "Xy_test=pd.read_csv('test_6+6+3+7+7_more.csv')\n",
    "Xy_test['time']=pd.to_datetime(Xy_test['time'])\n",
    "Xy_test['hour']=[x.hour+x.minute/60 for x in Xy_test['time']]    # 只保留小时和分\n",
    "y_predict=np.zeros(Xy_test.shape[0]*3)\n",
    "for id_road,group in Xy_test.groupby('id_road'):\n",
    "    group_train=data_train.loc[data_train['id_road']==id_road]\n",
    "    X_columns_list=['TTI0','TTI1','TTI2','TTI3','TTI4','TTI5','speed0','speed1','speed2','speed3','speed4','speed5','aveCarSpeed','aveCount','hour','isHoliday']\n",
    "    y_columns_list=['TTI6','TTI7','TTI8']\n",
    "    X=group_train[X_columns_list].values\n",
    "    y=group_train[y_columns_list].values\n",
    "    y0=y[:,0]\n",
    "    y1=y[:,1]\n",
    "    y2=y[:,2]\n",
    "    model0= LGBMRegressor(num_leaves=31,max_depth=10,learning_rate=0.02,n_estimators=500,min_child_samples=22)\n",
    "    model1= LGBMRegressor(num_leaves=31,max_depth=10,learning_rate=0.02,n_estimators=500,min_child_samples=22)\n",
    "    model2= LGBMRegressor(num_leaves=31,max_depth=10,learning_rate=0.02,n_estimators=500,min_child_samples=22)\n",
    "    model0.fit(X, y0)\n",
    "    model1.fit(X, y1)\n",
    "    model2.fit(X, y2)\n",
    "    id_sample_columns_list=['id_sample0','id_sample1','id_sample2']\n",
    "    X_test=group[X_columns_list].values\n",
    "    id_sample=group[id_sample_columns_list].values\n",
    "    y0_predict=model0.predict(X_test)\n",
    "    y1_predict=model1.predict(X_test)\n",
    "    y2_predict=model2.predict(X_test)\n",
    "    \n",
    "    for i in range(np.size(y0_predict)):\n",
    "        y_predict[int(id_sample[i,0])]=y0_predict[i]\n",
    "        y_predict[int(id_sample[i,1])]=y1_predict[i]\n",
    "        y_predict[int(id_sample[i,2])]=y2_predict[i]\n",
    "y_predict"
   ]
  },
  {
   "cell_type": "code",
   "execution_count": 30,
   "metadata": {},
   "outputs": [],
   "source": [
    "# 输出y_predict\n",
    "out=np.zeros([len(y_predict),2])\n",
    "for i in range(len(y_predict)):\n",
    "    out[i,0]=i\n",
    "    out[i,1]=y_predict[i]\n",
    "out=pd.DataFrame(out,columns=['id_sample','TTI'])\n",
    "out.to_csv('submit18_gps删除.csv',mode='w',index=False,header=True,encoding= 'utf-8')"
   ]
  },
  {
   "cell_type": "code",
   "execution_count": null,
   "metadata": {},
   "outputs": [],
   "source": []
  }
 ],
 "metadata": {
  "language_info": {
   "codemirror_mode": {
    "name": "ipython",
    "version": 3
   },
   "file_extension": ".py",
   "mimetype": "text/x-python",
   "name": "python",
   "nbconvert_exporter": "python",
   "pygments_lexer": "ipython3",
   "version": "3.7.7-final"
  },
  "orig_nbformat": 2,
  "kernelspec": {
   "name": "python37764bit3778a1df396b4d6c9e4b8a52fb936000",
   "display_name": "Python 3.7.7 64-bit"
  }
 },
 "nbformat": 4,
 "nbformat_minor": 2
}