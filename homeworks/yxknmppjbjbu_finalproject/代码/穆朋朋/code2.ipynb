{
 "cells": [
  {
   "cell_type": "code",
   "execution_count": 2,
   "metadata": {
    "tags": []
   },
   "outputs": [
    {
     "output_type": "stream",
     "name": "stdout",
     "text": "e:\\python_project\\MLPS7\n"
    }
   ],
   "source": [
    "# 未使用gps提取特征前的，使用模型有随机森林和lightGBM；\n",
    "# 随机森林: 0.1216，lightGBM：0.1234\n",
    "# 数据预处理，特征提取，简单地划分训练集为训练集和验证集并简单调参，训练，输出结果。\n",
    "# 数据预处理包括训练集预处理和测试集预处理。\n",
    "import numpy as np\n",
    "import pandas as pd\n",
    "import matplotlib.pyplot as plt\n",
    "import warnings\n",
    "warnings.filterwarnings(\"ignore\")\n",
    "%cd E:\\python_project\\MLPS7"
   ]
  },
  {
   "cell_type": "code",
   "execution_count": 3,
   "metadata": {
    "tags": [
     "outputPrepend"
    ]
   },
   "outputs": [
    {
     "output_type": "execute_result",
     "data": {
      "text/plain": "        id_road      TTI    speed                time\n0        276183  1.03472  69.6197 2019-01-01 00:00:00\n1        276183  1.03506  69.6275 2019-01-01 00:10:00\n2        276183  1.04166  69.1003 2019-01-01 00:20:00\n3        276183  1.02642  70.1266 2019-01-01 00:30:00\n4        276183  1.01442  70.9565 2019-01-01 00:40:00\n...         ...      ...      ...                 ...\n296193   276738  1.44719  28.3267 2019-12-21 23:10:00\n296194   276738  1.35854  30.1750 2019-12-21 23:20:00\n296195   276738  1.37941  29.7186 2019-12-21 23:30:00\n296196   276738  1.21284  33.7999 2019-12-21 23:40:00\n296197   276738  1.21629  33.7043 2019-12-21 23:50:00\n\n[296198 rows x 4 columns]",
      "text/html": "<div>\n<style scoped>\n    .dataframe tbody tr th:only-of-type {\n        vertical-align: middle;\n    }\n\n    .dataframe tbody tr th {\n        vertical-align: top;\n    }\n\n    .dataframe thead th {\n        text-align: right;\n    }\n</style>\n<table border=\"1\" class=\"dataframe\">\n  <thead>\n    <tr style=\"text-align: right;\">\n      <th></th>\n      <th>id_road</th>\n      <th>TTI</th>\n      <th>speed</th>\n      <th>time</th>\n    </tr>\n  </thead>\n  <tbody>\n    <tr>\n      <th>0</th>\n      <td>276183</td>\n      <td>1.03472</td>\n      <td>69.6197</td>\n      <td>2019-01-01 00:00:00</td>\n    </tr>\n    <tr>\n      <th>1</th>\n      <td>276183</td>\n      <td>1.03506</td>\n      <td>69.6275</td>\n      <td>2019-01-01 00:10:00</td>\n    </tr>\n    <tr>\n      <th>2</th>\n      <td>276183</td>\n      <td>1.04166</td>\n      <td>69.1003</td>\n      <td>2019-01-01 00:20:00</td>\n    </tr>\n    <tr>\n      <th>3</th>\n      <td>276183</td>\n      <td>1.02642</td>\n      <td>70.1266</td>\n      <td>2019-01-01 00:30:00</td>\n    </tr>\n    <tr>\n      <th>4</th>\n      <td>276183</td>\n      <td>1.01442</td>\n      <td>70.9565</td>\n      <td>2019-01-01 00:40:00</td>\n    </tr>\n    <tr>\n      <th>...</th>\n      <td>...</td>\n      <td>...</td>\n      <td>...</td>\n      <td>...</td>\n    </tr>\n    <tr>\n      <th>296193</th>\n      <td>276738</td>\n      <td>1.44719</td>\n      <td>28.3267</td>\n      <td>2019-12-21 23:10:00</td>\n    </tr>\n    <tr>\n      <th>296194</th>\n      <td>276738</td>\n      <td>1.35854</td>\n      <td>30.1750</td>\n      <td>2019-12-21 23:20:00</td>\n    </tr>\n    <tr>\n      <th>296195</th>\n      <td>276738</td>\n      <td>1.37941</td>\n      <td>29.7186</td>\n      <td>2019-12-21 23:30:00</td>\n    </tr>\n    <tr>\n      <th>296196</th>\n      <td>276738</td>\n      <td>1.21284</td>\n      <td>33.7999</td>\n      <td>2019-12-21 23:40:00</td>\n    </tr>\n    <tr>\n      <th>296197</th>\n      <td>276738</td>\n      <td>1.21629</td>\n      <td>33.7043</td>\n      <td>2019-12-21 23:50:00</td>\n    </tr>\n  </tbody>\n</table>\n<p>296198 rows × 4 columns</p>\n</div>"
     },
     "metadata": {},
     "execution_count": 3
    }
   ],
   "source": [
    "# 训练集数据处理0: 读取训练集\n",
    "df1 = pd.read_csv('train_TTI.csv')\n",
    "df1['time'] = pd.to_datetime(df1['time'])\n",
    "#df1"
   ]
  },
  {
   "cell_type": "code",
   "execution_count": 4,
   "metadata": {},
   "outputs": [
    {
     "output_type": "execute_result",
     "data": {
      "text/plain": "       id_road      TTI    speed                time\n0       275911  1.17708  61.1719 2019-01-01 00:00:00\n1       275911  1.20540  59.7347 2019-01-01 00:10:00\n2       275911  1.15301  62.4490 2019-01-01 00:20:00\n3       275911  1.16649  61.7272 2019-01-01 00:30:00\n4       275911  1.18073  60.9831 2019-01-01 00:40:00\n...        ...      ...      ...                 ...\n24763   276738  1.44719  28.3267 2019-12-21 23:10:00\n24764   276738  1.35854  30.1750 2019-12-21 23:20:00\n24765   276738  1.37941  29.7186 2019-12-21 23:30:00\n24766   276738  1.21284  33.7999 2019-12-21 23:40:00\n24767   276738  1.21629  33.7043 2019-12-21 23:50:00\n\n[297216 rows x 4 columns]",
      "text/html": "<div>\n<style scoped>\n    .dataframe tbody tr th:only-of-type {\n        vertical-align: middle;\n    }\n\n    .dataframe tbody tr th {\n        vertical-align: top;\n    }\n\n    .dataframe thead th {\n        text-align: right;\n    }\n</style>\n<table border=\"1\" class=\"dataframe\">\n  <thead>\n    <tr style=\"text-align: right;\">\n      <th></th>\n      <th>id_road</th>\n      <th>TTI</th>\n      <th>speed</th>\n      <th>time</th>\n    </tr>\n  </thead>\n  <tbody>\n    <tr>\n      <th>0</th>\n      <td>275911</td>\n      <td>1.17708</td>\n      <td>61.1719</td>\n      <td>2019-01-01 00:00:00</td>\n    </tr>\n    <tr>\n      <th>1</th>\n      <td>275911</td>\n      <td>1.20540</td>\n      <td>59.7347</td>\n      <td>2019-01-01 00:10:00</td>\n    </tr>\n    <tr>\n      <th>2</th>\n      <td>275911</td>\n      <td>1.15301</td>\n      <td>62.4490</td>\n      <td>2019-01-01 00:20:00</td>\n    </tr>\n    <tr>\n      <th>3</th>\n      <td>275911</td>\n      <td>1.16649</td>\n      <td>61.7272</td>\n      <td>2019-01-01 00:30:00</td>\n    </tr>\n    <tr>\n      <th>4</th>\n      <td>275911</td>\n      <td>1.18073</td>\n      <td>60.9831</td>\n      <td>2019-01-01 00:40:00</td>\n    </tr>\n    <tr>\n      <th>...</th>\n      <td>...</td>\n      <td>...</td>\n      <td>...</td>\n      <td>...</td>\n    </tr>\n    <tr>\n      <th>24763</th>\n      <td>276738</td>\n      <td>1.44719</td>\n      <td>28.3267</td>\n      <td>2019-12-21 23:10:00</td>\n    </tr>\n    <tr>\n      <th>24764</th>\n      <td>276738</td>\n      <td>1.35854</td>\n      <td>30.1750</td>\n      <td>2019-12-21 23:20:00</td>\n    </tr>\n    <tr>\n      <th>24765</th>\n      <td>276738</td>\n      <td>1.37941</td>\n      <td>29.7186</td>\n      <td>2019-12-21 23:30:00</td>\n    </tr>\n    <tr>\n      <th>24766</th>\n      <td>276738</td>\n      <td>1.21284</td>\n      <td>33.7999</td>\n      <td>2019-12-21 23:40:00</td>\n    </tr>\n    <tr>\n      <th>24767</th>\n      <td>276738</td>\n      <td>1.21629</td>\n      <td>33.7043</td>\n      <td>2019-12-21 23:50:00</td>\n    </tr>\n  </tbody>\n</table>\n<p>297216 rows × 4 columns</p>\n</div>"
     },
     "metadata": {},
     "execution_count": 4
    }
   ],
   "source": [
    "# 训练集数据处理1: 处理时间缺失\n",
    "df3 = pd.DataFrame()\n",
    "period1 = pd.date_range('2019-01-01 00:00:00', '2019-03-31 23:50:00', freq='10T')\n",
    "period2 = pd.date_range('2019-10-01 00:00:00', '2019-12-21 23:50:00', freq='10T')\n",
    "period = period1.append(period2)\n",
    "for name, group in df1.groupby('id_road'):\n",
    "    group.set_index('time', inplace=True)\n",
    "    group = group.reindex(period, method='nearest')\n",
    "    group['time'] = group.index\n",
    "    group.reset_index(drop=True, inplace=True)\n",
    "    df3 = df3.append(group)\n",
    "# df3.to_csv('train_TTI_fillna.csv', index=False)\n",
    "#df3"
   ]
  },
  {
   "cell_type": "code",
   "execution_count": 5,
   "metadata": {},
   "outputs": [
    {
     "output_type": "execute_result",
     "data": {
      "text/plain": "                                TTI0     TTI1     TTI2     TTI3     TTI4  \\\nid_road time                                                               \n275911  2019-01-01 01:00:00  1.17708  1.20540  1.15301  1.16649  1.18073   \n        2019-01-01 01:10:00  1.20540  1.15301  1.16649  1.18073  1.20200   \n        2019-01-01 01:20:00  1.15301  1.16649  1.18073  1.20200  1.18198   \n        2019-01-01 01:30:00  1.16649  1.18073  1.20200  1.18198  1.20954   \n        2019-01-01 01:40:00  1.18073  1.20200  1.18198  1.20954  1.16853   \n...                              ...      ...      ...      ...      ...   \n276738  2019-12-21 22:50:00  1.74871  1.70574  1.52142  1.53454  1.64355   \n        2019-12-21 23:00:00  1.70574  1.52142  1.53454  1.64355  1.65691   \n        2019-12-21 23:10:00  1.52142  1.53454  1.64355  1.65691  1.41686   \n        2019-12-21 23:20:00  1.53454  1.64355  1.65691  1.41686  1.44202   \n        2019-12-21 23:30:00  1.64355  1.65691  1.41686  1.44202  1.44719   \n\n                                TTI5   speed0   speed1   speed2   speed3  \\\nid_road time                                                               \n275911  2019-01-01 01:00:00  1.20200  61.1719  59.7347  62.4490  61.7272   \n        2019-01-01 01:10:00  1.18198  59.7347  62.4490  61.7272  60.9831   \n        2019-01-01 01:20:00  1.20954  62.4490  61.7272  60.9831  59.9037   \n        2019-01-01 01:30:00  1.16853  61.7272  60.9831  59.9037  60.9183   \n        2019-01-01 01:40:00  1.17467  60.9831  59.9037  60.9183  59.5302   \n...                              ...      ...      ...      ...      ...   \n276738  2019-12-21 22:50:00  1.65691  23.4425  24.0330  26.9447  26.7143   \n        2019-12-21 23:00:00  1.41686  24.0330  26.9447  26.7143  24.9423   \n        2019-12-21 23:10:00  1.44202  26.9447  26.7143  24.9423  24.7413   \n        2019-12-21 23:20:00  1.44719  26.7143  24.9423  24.7413  28.9330   \n        2019-12-21 23:30:00  1.35854  24.9423  24.7413  28.9330  28.4283   \n\n                              speed4   speed5     TTI6     TTI7     TTI8  \nid_road time                                                              \n275911  2019-01-01 01:00:00  60.9831  59.9037  1.18198  1.20954  1.16853  \n        2019-01-01 01:10:00  59.9037  60.9183  1.20954  1.16853  1.17467  \n        2019-01-01 01:20:00  60.9183  59.5302  1.16853  1.17467  1.13694  \n        2019-01-01 01:30:00  59.5302  61.6195  1.17467  1.13694  1.13410  \n        2019-01-01 01:40:00  61.6195  61.2974  1.13694  1.13410  1.09296  \n...                              ...      ...      ...      ...      ...  \n276738  2019-12-21 22:50:00  24.9423  24.7413  1.41686  1.44202  1.44719  \n        2019-12-21 23:00:00  24.7413  28.9330  1.44202  1.44719  1.35854  \n        2019-12-21 23:10:00  28.9330  28.4283  1.44719  1.35854  1.37941  \n        2019-12-21 23:20:00  28.4283  28.3267  1.35854  1.37941  1.21284  \n        2019-12-21 23:30:00  28.3267  30.1750  1.37941  1.21284  1.21629  \n\n[297024 rows x 15 columns]",
      "text/html": "<div>\n<style scoped>\n    .dataframe tbody tr th:only-of-type {\n        vertical-align: middle;\n    }\n\n    .dataframe tbody tr th {\n        vertical-align: top;\n    }\n\n    .dataframe thead th {\n        text-align: right;\n    }\n</style>\n<table border=\"1\" class=\"dataframe\">\n  <thead>\n    <tr style=\"text-align: right;\">\n      <th></th>\n      <th></th>\n      <th>TTI0</th>\n      <th>TTI1</th>\n      <th>TTI2</th>\n      <th>TTI3</th>\n      <th>TTI4</th>\n      <th>TTI5</th>\n      <th>speed0</th>\n      <th>speed1</th>\n      <th>speed2</th>\n      <th>speed3</th>\n      <th>speed4</th>\n      <th>speed5</th>\n      <th>TTI6</th>\n      <th>TTI7</th>\n      <th>TTI8</th>\n    </tr>\n    <tr>\n      <th>id_road</th>\n      <th>time</th>\n      <th></th>\n      <th></th>\n      <th></th>\n      <th></th>\n      <th></th>\n      <th></th>\n      <th></th>\n      <th></th>\n      <th></th>\n      <th></th>\n      <th></th>\n      <th></th>\n      <th></th>\n      <th></th>\n      <th></th>\n    </tr>\n  </thead>\n  <tbody>\n    <tr>\n      <th rowspan=\"5\" valign=\"top\">275911</th>\n      <th>2019-01-01 01:00:00</th>\n      <td>1.17708</td>\n      <td>1.20540</td>\n      <td>1.15301</td>\n      <td>1.16649</td>\n      <td>1.18073</td>\n      <td>1.20200</td>\n      <td>61.1719</td>\n      <td>59.7347</td>\n      <td>62.4490</td>\n      <td>61.7272</td>\n      <td>60.9831</td>\n      <td>59.9037</td>\n      <td>1.18198</td>\n      <td>1.20954</td>\n      <td>1.16853</td>\n    </tr>\n    <tr>\n      <th>2019-01-01 01:10:00</th>\n      <td>1.20540</td>\n      <td>1.15301</td>\n      <td>1.16649</td>\n      <td>1.18073</td>\n      <td>1.20200</td>\n      <td>1.18198</td>\n      <td>59.7347</td>\n      <td>62.4490</td>\n      <td>61.7272</td>\n      <td>60.9831</td>\n      <td>59.9037</td>\n      <td>60.9183</td>\n      <td>1.20954</td>\n      <td>1.16853</td>\n      <td>1.17467</td>\n    </tr>\n    <tr>\n      <th>2019-01-01 01:20:00</th>\n      <td>1.15301</td>\n      <td>1.16649</td>\n      <td>1.18073</td>\n      <td>1.20200</td>\n      <td>1.18198</td>\n      <td>1.20954</td>\n      <td>62.4490</td>\n      <td>61.7272</td>\n      <td>60.9831</td>\n      <td>59.9037</td>\n      <td>60.9183</td>\n      <td>59.5302</td>\n      <td>1.16853</td>\n      <td>1.17467</td>\n      <td>1.13694</td>\n    </tr>\n    <tr>\n      <th>2019-01-01 01:30:00</th>\n      <td>1.16649</td>\n      <td>1.18073</td>\n      <td>1.20200</td>\n      <td>1.18198</td>\n      <td>1.20954</td>\n      <td>1.16853</td>\n      <td>61.7272</td>\n      <td>60.9831</td>\n      <td>59.9037</td>\n      <td>60.9183</td>\n      <td>59.5302</td>\n      <td>61.6195</td>\n      <td>1.17467</td>\n      <td>1.13694</td>\n      <td>1.13410</td>\n    </tr>\n    <tr>\n      <th>2019-01-01 01:40:00</th>\n      <td>1.18073</td>\n      <td>1.20200</td>\n      <td>1.18198</td>\n      <td>1.20954</td>\n      <td>1.16853</td>\n      <td>1.17467</td>\n      <td>60.9831</td>\n      <td>59.9037</td>\n      <td>60.9183</td>\n      <td>59.5302</td>\n      <td>61.6195</td>\n      <td>61.2974</td>\n      <td>1.13694</td>\n      <td>1.13410</td>\n      <td>1.09296</td>\n    </tr>\n    <tr>\n      <th>...</th>\n      <th>...</th>\n      <td>...</td>\n      <td>...</td>\n      <td>...</td>\n      <td>...</td>\n      <td>...</td>\n      <td>...</td>\n      <td>...</td>\n      <td>...</td>\n      <td>...</td>\n      <td>...</td>\n      <td>...</td>\n      <td>...</td>\n      <td>...</td>\n      <td>...</td>\n      <td>...</td>\n    </tr>\n    <tr>\n      <th rowspan=\"5\" valign=\"top\">276738</th>\n      <th>2019-12-21 22:50:00</th>\n      <td>1.74871</td>\n      <td>1.70574</td>\n      <td>1.52142</td>\n      <td>1.53454</td>\n      <td>1.64355</td>\n      <td>1.65691</td>\n      <td>23.4425</td>\n      <td>24.0330</td>\n      <td>26.9447</td>\n      <td>26.7143</td>\n      <td>24.9423</td>\n      <td>24.7413</td>\n      <td>1.41686</td>\n      <td>1.44202</td>\n      <td>1.44719</td>\n    </tr>\n    <tr>\n      <th>2019-12-21 23:00:00</th>\n      <td>1.70574</td>\n      <td>1.52142</td>\n      <td>1.53454</td>\n      <td>1.64355</td>\n      <td>1.65691</td>\n      <td>1.41686</td>\n      <td>24.0330</td>\n      <td>26.9447</td>\n      <td>26.7143</td>\n      <td>24.9423</td>\n      <td>24.7413</td>\n      <td>28.9330</td>\n      <td>1.44202</td>\n      <td>1.44719</td>\n      <td>1.35854</td>\n    </tr>\n    <tr>\n      <th>2019-12-21 23:10:00</th>\n      <td>1.52142</td>\n      <td>1.53454</td>\n      <td>1.64355</td>\n      <td>1.65691</td>\n      <td>1.41686</td>\n      <td>1.44202</td>\n      <td>26.9447</td>\n      <td>26.7143</td>\n      <td>24.9423</td>\n      <td>24.7413</td>\n      <td>28.9330</td>\n      <td>28.4283</td>\n      <td>1.44719</td>\n      <td>1.35854</td>\n      <td>1.37941</td>\n    </tr>\n    <tr>\n      <th>2019-12-21 23:20:00</th>\n      <td>1.53454</td>\n      <td>1.64355</td>\n      <td>1.65691</td>\n      <td>1.41686</td>\n      <td>1.44202</td>\n      <td>1.44719</td>\n      <td>26.7143</td>\n      <td>24.9423</td>\n      <td>24.7413</td>\n      <td>28.9330</td>\n      <td>28.4283</td>\n      <td>28.3267</td>\n      <td>1.35854</td>\n      <td>1.37941</td>\n      <td>1.21284</td>\n    </tr>\n    <tr>\n      <th>2019-12-21 23:30:00</th>\n      <td>1.64355</td>\n      <td>1.65691</td>\n      <td>1.41686</td>\n      <td>1.44202</td>\n      <td>1.44719</td>\n      <td>1.35854</td>\n      <td>24.9423</td>\n      <td>24.7413</td>\n      <td>28.9330</td>\n      <td>28.4283</td>\n      <td>28.3267</td>\n      <td>30.1750</td>\n      <td>1.37941</td>\n      <td>1.21284</td>\n      <td>1.21629</td>\n    </tr>\n  </tbody>\n</table>\n<p>297024 rows × 15 columns</p>\n</div>"
     },
     "metadata": {},
     "execution_count": 5
    }
   ],
   "source": [
    "# 训练集数据处理1: 6+6+3，6 TTI, 3 speed, 3 TTI(想要预测的值)\n",
    "# 将来如果得到预测集的3 speed，则可以变为6+9+3\n",
    "id_road = df3['id_road'].unique()   # 共12条road\n",
    "index = pd.MultiIndex.from_product([id_road, period1.append(period2)])\n",
    "columnsList=['TTI0','TTI1','TTI2','TTI3','TTI4','TTI5',\n",
    "            'speed0','speed1','speed2','speed3','speed4','speed5', #'speed6','speed7', 'speed8',\n",
    "            'TTI6','TTI7','TTI8']\n",
    "df4 = pd.DataFrame(0, index=index, columns=columnsList)\n",
    "for name, group in df3.groupby('id_road'):\n",
    "    # df3行数：6*24*172*12, 解释：每天6*24条记录，172天，12条road\n",
    "    matrix = np.zeros((6*24*172, 6+6+3))\n",
    "    tti = group['TTI'].values\n",
    "    speed = group['speed'].values\n",
    "    i = 6\n",
    "    for j in range(6, 6*24*90-2):   # 前90天\n",
    "        matrix[i,0:6] = tti[j-6:j]\n",
    "        matrix[i,6:12] = speed[j-6:j]\n",
    "        matrix[i,12:15] = tti[j:j+3]\n",
    "        i += 1\n",
    "    i += 8\n",
    "    for j in range(6*24*90+6, 6*24*172-2):  # 后172-90天\n",
    "        matrix[i,0:6] = tti[j-6:j]\n",
    "        matrix[i,6:12] = speed[j-6:j]\n",
    "        matrix[i,12:15] = tti[j:j+3]\n",
    "        i += 1\n",
    "    df4.loc[name] = matrix\n",
    "df4.index.names = ['id_road', 'time']\n",
    "df4=df4.loc[df4['TTI0']>0]\n",
    "#df4.to_csv('train_TTI_6+6+3.csv')\n",
    "#df4"
   ]
  },
  {
   "cell_type": "code",
   "execution_count": 34,
   "metadata": {},
   "outputs": [],
   "source": [
    "# 训练集数据处理2: 添加特征\n",
    "import calendar\n",
    "df5 = pd.read_csv('train_TTI_6+6+3.csv')\n",
    "df5['time']=pd.to_datetime(df5['time'])\n",
    "# 添加是否放假的特征\n",
    "month_day=[[x.month,x.day] for x in df5['time']]\n",
    "weekday=[calendar.weekday(x.year,x.month,x.day) for x in df5['time']]\n",
    "holidayList=[[1,1],[2,4],[2,5],[2,6],[2,7],[2,8],[2,9],[2,10],[10,1],[10,2],[10,3],[10,4],[10,5],[10,6],[10,7]]\n",
    "workdayList=[[2,2],[2,3],[10,12]]\n",
    "\n",
    "isHoliday=np.zeros(np.size(weekday))\n",
    "for i in range(np.size(weekday)):\n",
    "    if month_day[i] in holidayList:\n",
    "        isHoliday[i]=1.0\n",
    "    elif weekday[i]>=5:\n",
    "        isHoliday[i]=1.0\n",
    "    else:\n",
    "        isHoliday[i]=0.0\n",
    "    if month_day[i] in workdayList:\n",
    "        isHoliday[i]=0.0\n",
    "df5['isHoliday']=isHoliday\n",
    "df5['weekday']=weekday\n",
    "df5.to_csv('train_TTI_6+6+3_more.csv',index=0)"
   ]
  },
  {
   "cell_type": "code",
   "execution_count": 27,
   "metadata": {},
   "outputs": [],
   "source": [
    "# 弃用\n",
    "# 训练集数据处理3: 分割训练集为小训练集和小验证集(小测试集)\n",
    "# 将12月数据拿出来作为验证集\n",
    "# 以上的cell可以不运行；\n",
    "#df5 = pd.read_csv('train_TTI_6+6+3.csv')\n",
    "df5 = pd.read_csv('train_TTI_6+6+3_more.csv')\n",
    "df5['time']=pd.to_datetime(df5['time'])\n",
    "df5['month']=[x.month for x in df5['time']]\n",
    "train_train=df5.loc[df5['month']!=12]\n",
    "train_train.drop(['month'],axis=1,inplace=True)\n",
    "train_test=df5.loc[df5['month']==12]\n",
    "train_test.drop(['month'],axis=1,inplace=True)\n",
    "#train_train.to_csv('train_train_6+6+3.csv',index=0)\n",
    "#train_test.to_csv('train_test_6+6+3.csv',index=0)"
   ]
  },
  {
   "cell_type": "code",
   "execution_count": 32,
   "metadata": {},
   "outputs": [
    {
     "output_type": "display_data",
     "data": {
      "text/plain": "11477.455474708637"
     },
     "metadata": {}
    },
    {
     "output_type": "execute_result",
     "data": {
      "text/plain": "0.10549907598636514"
     },
     "metadata": {},
     "execution_count": 32
    }
   ],
   "source": [
    "# 模型训练：随机森林\n",
    "from sklearn.ensemble import RandomForestRegressor\n",
    "train_train['hour']=[x.hour+x.minute/60 for x in train_train['time']] # 需要time列转化为datetime类\n",
    "train_test['hour']=[x.hour+x.minute/60 for x in train_test['time']] # 需要time列转化为datetime类\n",
    "# 去除8-22之外的数据    0.1391\n",
    "#train_train=train_train.loc[train_train['hour']>=8.5]\n",
    "#train_train=train_train.loc[train_train['hour']<=21] \n",
    "#train_test=train_test.loc[train_test['hour']>=8.5]\n",
    "#train_test=train_test.loc[train_test['hour']<=21]\n",
    "mae=0\n",
    "for id_road,group in train_train.groupby('id_road'):\n",
    "    #X_columns_list=['TTI0','TTI1','TTI2','TTI3','TTI4','TTI5','speed0','speed1','speed2','speed3','speed4','speed5','hour','isHoliday']\n",
    "    X_columns_list=['TTI0','TTI1','TTI2','TTI3','TTI4','TTI5','hour','isHoliday','weekday']\n",
    "    y_columns_list=['TTI6','TTI7','TTI8']\n",
    "    X=group[X_columns_list].values\n",
    "    y=group[y_columns_list].values\n",
    "    model = RandomForestRegressor(max_features=\"auto\",n_estimators=50, min_samples_leaf = 10)\n",
    "    #model = DecisionTreeRegressor(criterion='mae',splitter='random',max_depth=10,min_samples_split=5,min_samples_leaf=4)\n",
    "    #model = linear_model.LinearRegression()\n",
    "    model.fit(X, y)\n",
    "    date_test=train_test.loc[train_test['id_road']==id_road]\n",
    "    X_test=date_test[X_columns_list].values\n",
    "    y_test=date_test[y_columns_list].values\n",
    "    y_predict=model.predict(X_test)\n",
    "    err=np.abs(y_test-y_predict)\n",
    "    mae+=np.sum(np.sum(err))\n",
    "display(mae)\n",
    "mae/=len(train_test)*3\n",
    "mae"
   ]
  },
  {
   "cell_type": "code",
   "execution_count": 55,
   "metadata": {},
   "outputs": [
    {
     "output_type": "execute_result",
     "data": {
      "text/plain": "0.14367975148695783"
     },
     "metadata": {},
     "execution_count": 55
    }
   ],
   "source": [
    "# 模型训练\n",
    "from lightgbm import LGBMRegressor\n",
    "#train_train=train_train.loc[train_train['hour']>=8.5]\n",
    "#train_train=train_train.loc[train_train['hour']<=21] \n",
    "train_test=train_test.loc[train_test['hour']>=8.5]\n",
    "train_test=train_test.loc[train_test['hour']<=21]\n",
    "train_train['hour']=[x.hour+x.minute/60 for x in train_train['time']] # 需要time列转化为datetime类\n",
    "train_test['hour']=[x.hour+x.minute/60 for x in train_test['time']] # 需要time列转化为datetime类\n",
    "mae=0\n",
    "for id_road,group in train_train.groupby('id_road'):\n",
    "    #X_columns_list=['TTI0','TTI1','TTI2','TTI3','TTI4','TTI5','speed0','speed1','speed2','speed3','speed4','speed5','hour','isHoliday']\n",
    "    X_columns_list=['TTI0','TTI1','TTI2','TTI3','TTI4','TTI5','hour','isHoliday','weekday']\n",
    "    y_columns_list=['TTI6','TTI7','TTI8']\n",
    "    X=group[X_columns_list].values\n",
    "    y=group[y_columns_list].values\n",
    "    y0=y[:,0]\n",
    "    y1=y[:,1]\n",
    "    y2=y[:,2]\n",
    "    model0= LGBMRegressor(num_leaves=31,max_depth=10,learning_rate=0.08,n_estimators=300)\n",
    "    model1= LGBMRegressor(num_leaves=31,max_depth=10,learning_rate=0.08,n_estimators=300)\n",
    "    model2= LGBMRegressor(num_leaves=31,max_depth=10,learning_rate=0.08,n_estimators=300)\n",
    "    #model = RandomForestRegressor(max_features=\"auto\",n_estimators=50, min_samples_leaf = 10)\n",
    "    #model=DecisionTreeRegressor(criterion='mae',splitter='random',max_depth=10,min_samples_split=5,min_samples_leaf=4)\n",
    "    #model = linear_model.LinearRegression()\n",
    "    model0.fit(X, y0)\n",
    "    model1.fit(X, y1)\n",
    "    model2.fit(X, y2)\n",
    "    date_test=train_test.loc[train_test['id_road']==id_road]\n",
    "    X_test=date_test[X_columns_list].values\n",
    "    y_test=date_test[y_columns_list].values\n",
    "    #y_predict=model.predict(X_test)\n",
    "    #err=np.abs(y_test-y_predict)\n",
    "    #mae+=np.sum(np.sum(err))\n",
    "    y0_predict=model0.predict(X_test)\n",
    "    y1_predict=model1.predict(X_test)\n",
    "    y2_predict=model2.predict(X_test)\n",
    "    err0=np.abs(y_test[:,0]-y0_predict)\n",
    "    err1=np.abs(y_test[:,1]-y1_predict)\n",
    "    err2=np.abs(y_test[:,2]-y2_predict)\n",
    "    mae+=np.sum(err0)+np.sum(err1)+np.sum(err2)\n",
    "mae/=len(train_test)*3\n",
    "mae"
   ]
  },
  {
   "cell_type": "code",
   "execution_count": 41,
   "metadata": {},
   "outputs": [
    {
     "output_type": "stream",
     "name": "stdout",
     "text": "m需要是整数，m= 1008.0\n"
    }
   ],
   "source": [
    "# 测试集数据处理0:  将toPredict_nolabel.csv和toPredict_train_TTI.csv合并为一个直接可以给模型调用的文件\n",
    "# 弃用\n",
    "data_test = pd.read_csv('toPredict_Xy.csv')\n",
    "data_test['time']=pd.to_datetime(data_test['time'])\n",
    "data_test['time']=[x.hour+x.minute/60 for x in data_test['time']]\n",
    "#display(data_test)\n",
    "\n",
    "data_test=np.array(data_test)\n",
    "m=np.size(data_test,0)/9\n",
    "print(\"m需要是整数，m=\",m)\n",
    "m=int(m)\n",
    "Xy_test=np.zeros([m,14+3])\n",
    "for i in range(m):\n",
    "    group=data_test[i*9+0:i*9+9]\n",
    "    ttl=group[0:6,1]\n",
    "    id_road=group[0,0]\n",
    "    speed=group[0:6,2]\n",
    "    id_sample=group[6:9,4]\n",
    "    time=group[6,3]\n",
    "    Xy_test[i]=[id_road,ttl[0],ttl[1],ttl[2],ttl[3],ttl[4],ttl[5],speed[0],speed[1],speed[2],speed[3],speed[4],speed[5],time,group[6,4],group[7,4],group[8,4]]\n",
    "Xy_test=pd.DataFrame(Xy_test,columns=['id_road','TTI0','TTI1','TTI2','TTI3','TTI4','TTI5','speed0','speed1','speed2','speed3','speed4','speed5','hour','id_sample0','id_sample1','id_sample2'])\n",
    "Xy_test.to_csv('test_6+6+3_old.csv',index=0)"
   ]
  },
  {
   "cell_type": "code",
   "execution_count": 66,
   "metadata": {},
   "outputs": [
    {
     "output_type": "display_data",
     "data": {
      "text/plain": "Empty DataFrame\nColumns: [id_road, time, TTI0, TTI1, TTI2, TTI3, TTI4, TTI5, speed0, speed1, speed2, speed3, speed4, speed5, id_sample0, id_sample1, id_sample2]\nIndex: []",
      "text/html": "<div>\n<style scoped>\n    .dataframe tbody tr th:only-of-type {\n        vertical-align: middle;\n    }\n\n    .dataframe tbody tr th {\n        vertical-align: top;\n    }\n\n    .dataframe thead th {\n        text-align: right;\n    }\n</style>\n<table border=\"1\" class=\"dataframe\">\n  <thead>\n    <tr style=\"text-align: right;\">\n      <th></th>\n      <th>id_road</th>\n      <th>time</th>\n      <th>TTI0</th>\n      <th>TTI1</th>\n      <th>TTI2</th>\n      <th>TTI3</th>\n      <th>TTI4</th>\n      <th>TTI5</th>\n      <th>speed0</th>\n      <th>speed1</th>\n      <th>speed2</th>\n      <th>speed3</th>\n      <th>speed4</th>\n      <th>speed5</th>\n      <th>id_sample0</th>\n      <th>id_sample1</th>\n      <th>id_sample2</th>\n    </tr>\n  </thead>\n  <tbody>\n  </tbody>\n</table>\n</div>"
     },
     "metadata": {}
    }
   ],
   "source": [
    "# 测试集数据处理0:  将toPredict_nolabel.csv和toPredict_train_TTI.csv合并为一个直接可以给模型调用的文件\n",
    "# 现在在使用\n",
    "data_test = pd.read_csv('toPredict_Xy.csv')\n",
    "data_test['time']=pd.to_datetime(data_test['time'])\n",
    "data_test['index']=data_test.index\n",
    "data_test['index']=[int(x/9) for x in data_test['index']]\n",
    "Xy_test_new=pd.DataFrame(columns=['id_road','time','TTI0','TTI1','TTI2','TTI3','TTI4','TTI5','speed0','speed1','speed2','speed3','speed4','speed5','id_sample0','id_sample1','id_sample2'])\n",
    "for index,group in data_test.groupby('index'):\n",
    "    ttl=group.iloc[0:6,1].values\n",
    "    id_road=group.iloc[0,0]\n",
    "    speed=group.iloc[0:6,2].values\n",
    "    id_sample=group.iloc[6:9,4].values\n",
    "    time=group.iloc[6,3]\n",
    "    Xy_test_new.loc[len(Xy_test_new)]=[id_road,time,ttl[0],ttl[1],ttl[2],ttl[3],ttl[4],ttl[5],speed[0],speed[1],speed[2],speed[3],speed[4],speed[5],group.iloc[6,4],group.iloc[7,4],group.iloc[8,4]]\n",
    "Xy_test_new.to_csv('test_6+6+3.csv',index=0)"
   ]
  },
  {
   "cell_type": "code",
   "execution_count": 69,
   "metadata": {},
   "outputs": [],
   "source": [
    "# 测试集数据处理1: 添加特征\n",
    "import calendar\n",
    "Xy_test_new = pd.read_csv('test_6+6+3.csv')\n",
    "Xy_test_new['time']=pd.to_datetime(Xy_test_new['time'])\n",
    "# 添加是否放假的特征\n",
    "month_day=[[x.month,x.day] for x in Xy_test_new['time']]\n",
    "weekday=[calendar.weekday(x.year,x.month,x.day) for x in Xy_test_new['time']]\n",
    "holidayList=[[1,1],[2,4],[2,5],[2,6],[2,7],[2,8],[2,9],[2,10],[10,1],[10,2],[10,3],[10,4],[10,5],[10,6],[10,7]]\n",
    "workdayList=[[2,2],[2,3],[10,12]]\n",
    "\n",
    "isHoliday=np.zeros(np.size(weekday))\n",
    "for i in range(np.size(weekday)):\n",
    "    if month_day[i] in holidayList:\n",
    "        isHoliday[i]=1.0\n",
    "    elif weekday[i]>=5:\n",
    "        isHoliday[i]=1.0\n",
    "    else:\n",
    "        isHoliday[i]=0.0\n",
    "    if month_day[i] in workdayList:\n",
    "        isHoliday[i]=0.0\n",
    "Xy_test_new['isHoliday']=isHoliday\n",
    "Xy_test_new['weekday']=weekday\n",
    "Xy_test_new.to_csv('test_6+6+3_more.csv',index=0)"
   ]
  },
  {
   "cell_type": "code",
   "execution_count": 79,
   "metadata": {},
   "outputs": [
    {
     "output_type": "execute_result",
     "data": {
      "text/plain": "array([1.08204822, 1.10464171, 1.13459097, ..., 1.5367307 , 1.5140879 ,\n       1.53518937])"
     },
     "metadata": {},
     "execution_count": 79
    }
   ],
   "source": [
    "#data_train=['id_road','time','TTI0','TTI1','TTI2','TTI3','TTI4','TTI5','speed0','speed1','speed2','speed3','speed4','speed5','isHoliday','weekday']\n",
    "#Xy_test=['id_road','time','TTI0','TTI1','TTI2','TTI3','TTI4','TTI5','speed0','speed1','speed2','speed3','speed4','speed5','id_sample0','id_sample1','id_sample2','isHoliday','weekday']\n",
    "data_train = pd.read_csv('train_TTI_6+6+3_more.csv')\n",
    "data_train['time']=pd.to_datetime(data_train['time'])\n",
    "data_train['hour']=[x.hour+x.minute/60 for x in data_train['time']]    # 只保留小时和分\n",
    "Xy_test=pd.read_csv('test_6+6+3_more.csv')\n",
    "Xy_test['time']=pd.to_datetime(Xy_test['time'])\n",
    "Xy_test['hour']=[x.hour+x.minute/60 for x in Xy_test['time']]    # 只保留小时和分\n",
    "y_predict=np.zeros(Xy_test.shape[0]*3)\n",
    "for id_road,group in Xy_test.groupby('id_road'):\n",
    "    group_train=data_train.loc[data_train['id_road']==id_road]\n",
    "    X_columns_list=['TTI0','TTI1','TTI2','TTI3','TTI4','TTI5','hour','isHoliday','weekday']\n",
    "    y_columns_list=['TTI6','TTI7','TTI8']\n",
    "    X=group_train[X_columns_list].values\n",
    "    y=group_train[y_columns_list].values\n",
    "    model = RandomForestRegressor(max_features=\"auto\",n_estimators=50, min_samples_leaf = 10)\n",
    "    #model=DecisionTreeRegressor(criterion='mae',splitter='random',max_depth=10,min_samples_split=5,min_samples_leaf=4)\n",
    "    #model = linear_model.LinearRegression()\n",
    "    model.fit(X,y)\n",
    "    id_sample_columns_list=['id_sample0','id_sample1','id_sample2']\n",
    "    X_test=group[X_columns_list].values\n",
    "    id_sample=group[id_sample_columns_list].values\n",
    "    y_test=model.predict(X_test)\n",
    "    for i in range(np.size(y_test,0)):\n",
    "        for j in range(np.size(y_test,1)):\n",
    "            y_predict[int(id_sample[i,j])]=y_test[i,j]\n",
    "y_predict"
   ]
  },
  {
   "cell_type": "code",
   "execution_count": 41,
   "metadata": {},
   "outputs": [
    {
     "output_type": "execute_result",
     "data": {
      "text/plain": "array([1.07256574, 1.08833027, 1.09765947, ..., 1.60248519, 1.63985061,\n       1.55906916])"
     },
     "metadata": {},
     "execution_count": 41
    }
   ],
   "source": [
    "#data_train=['id_road','time','TTI0','TTI1','TTI2','TTI3','TTI4','TTI5','speed0','speed1','speed2','speed3','speed4','speed5','isHoliday','weekday']\n",
    "#Xy_test=['id_road','time','TTI0','TTI1','TTI2','TTI3','TTI4','TTI5','speed0','speed1','speed2','speed3','speed4','speed5','id_sample0','id_sample1','id_sample2','isHoliday','weekday']\n",
    "data_train = pd.read_csv('train_TTI_6+6+3_more.csv')\n",
    "data_train['time']=pd.to_datetime(data_train['time'])\n",
    "data_train['hour']=[x.hour+x.minute/60 for x in data_train['time']]    # 只保留小时和分\n",
    "Xy_test=pd.read_csv('test_6+6+3_more.csv')\n",
    "Xy_test['time']=pd.to_datetime(Xy_test['time'])\n",
    "Xy_test['hour']=[x.hour+x.minute/60 for x in Xy_test['time']]    # 只保留小时和分\n",
    "y_predict=np.zeros(Xy_test.shape[0]*3)\n",
    "for id_road,group in Xy_test.groupby('id_road'):\n",
    "    group_train=data_train.loc[data_train['id_road']==id_road]\n",
    "    X_columns_list=['TTI0','TTI1','TTI2','TTI3','TTI4','TTI5','hour','isHoliday','weekday']\n",
    "    y_columns_list=['TTI6','TTI7','TTI8']\n",
    "    X=group_train[X_columns_list].values\n",
    "    y=group_train[y_columns_list].values\n",
    "    y0=y[:,0]\n",
    "    y1=y[:,1]\n",
    "    y2=y[:,2]\n",
    "    model0= LGBMRegressor(num_leaves=31,max_depth=10,learning_rate=0.08,n_estimators=100)\n",
    "    model1= LGBMRegressor(num_leaves=31,max_depth=10,learning_rate=0.08,n_estimators=100)\n",
    "    model2= LGBMRegressor(num_leaves=31,max_depth=10,learning_rate=0.08,n_estimators=100)\n",
    "    model0.fit(X, y0)\n",
    "    model1.fit(X, y1)\n",
    "    model2.fit(X, y2)\n",
    "    id_sample_columns_list=['id_sample0','id_sample1','id_sample2']\n",
    "    X_test=group[X_columns_list].values\n",
    "    id_sample=group[id_sample_columns_list].values\n",
    "    y0_predict=model0.predict(X_test)\n",
    "    y1_predict=model1.predict(X_test)\n",
    "    y2_predict=model2.predict(X_test)\n",
    "    \n",
    "    for i in range(np.size(y0_predict)):\n",
    "        y_predict[int(id_sample[i,0])]=y0_predict[i]\n",
    "        y_predict[int(id_sample[i,1])]=y1_predict[i]\n",
    "        y_predict[int(id_sample[i,2])]=y2_predict[i]\n",
    "y_predict"
   ]
  },
  {
   "cell_type": "code",
   "execution_count": 44,
   "metadata": {},
   "outputs": [],
   "source": [
    "# 输出y_predict\n",
    "out=np.zeros([len(y_predict),2])\n",
    "for i in range(len(y_predict)):\n",
    "    out[i,0]=i\n",
    "    out[i,1]=y_predict[i]\n",
    "out=pd.DataFrame(out,columns=['id_sample','TTI'])\n",
    "out.to_csv('submit8.csv',mode='w',index=False,header=True,encoding= 'utf-8')"
   ]
  },
  {
   "cell_type": "code",
   "execution_count": 19,
   "metadata": {},
   "outputs": [
    {
     "output_type": "display_data",
     "data": {
      "text/plain": "0.021200328594284064"
     },
     "metadata": {}
    },
    {
     "output_type": "display_data",
     "data": {
      "text/plain": "0.01992984153516499"
     },
     "metadata": {}
    },
    {
     "output_type": "display_data",
     "data": {
      "text/plain": "0.03911232699352509"
     },
     "metadata": {}
    },
    {
     "output_type": "display_data",
     "data": {
      "text/plain": "0.03353798162728882"
     },
     "metadata": {}
    },
    {
     "output_type": "display_data",
     "data": {
      "text/plain": "0.01676899081364441"
     },
     "metadata": {}
    },
    {
     "output_type": "display_data",
     "data": {
      "text/plain": "0.01676899081364441"
     },
     "metadata": {}
    }
   ],
   "source": [
    "# 检测某两次结果的mae\n",
    "y1=pd.read_csv('submit16_5+14.csv')['TTI'].values\n",
    "y2=pd.read_csv('submit19.csv')['TTI'].values\n",
    "err=np.abs(y1-y2)\n",
    "mae=np.sum(err)/len(err)\n",
    "display(mae)\n",
    "\n",
    "y1=pd.read_csv('submit19.csv')['TTI'].values\n",
    "y2=pd.read_csv('submit14.csv')['TTI'].values\n",
    "err=np.abs(y1-y2)\n",
    "mae=np.sum(err)/len(err)\n",
    "display(mae)\n",
    "y1=pd.read_csv('submit5.csv')['TTI'].values\n",
    "y2=pd.read_csv('submit14.csv')['TTI'].values\n",
    "err=np.abs(y1-y2)\n",
    "mae=np.sum(err)/len(err)\n",
    "display(mae)\n",
    "#0.03911232699352509\n",
    "y1=pd.read_csv('submit19.csv')['TTI'].values\n",
    "y2=pd.read_csv('submit5.csv')['TTI'].values\n",
    "err=np.abs(y1-y2)\n",
    "mae=np.sum(err)/len(err)\n",
    "display(mae)\n",
    "y3=(y1+y2)/2\n",
    "err1=np.abs(y3-y1)\n",
    "err2=np.abs(y3-y2)\n",
    "mae1=np.sum(err1)/len(err1)\n",
    "mae2=np.sum(err2)/len(err2)\n",
    "display(mae1)\n",
    "display(mae2)\n",
    "\n",
    "y_predict=y3\n",
    "# 输出y_predict\n",
    "out=np.zeros([len(y_predict),2])\n",
    "for i in range(len(y_predict)):\n",
    "    out[i,0]=i\n",
    "    out[i,1]=y_predict[i]\n",
    "out=pd.DataFrame(out,columns=['id_sample','TTI'])\n",
    "out.to_csv('submit20_5+19.csv',mode='w',index=False,header=True,encoding= 'utf-8')"
   ]
  },
  {
   "cell_type": "code",
   "execution_count": null,
   "metadata": {},
   "outputs": [],
   "source": []
  }
 ],
 "metadata": {
  "language_info": {
   "codemirror_mode": {
    "name": "ipython",
    "version": 3
   },
   "file_extension": ".py",
   "mimetype": "text/x-python",
   "name": "python",
   "nbconvert_exporter": "python",
   "pygments_lexer": "ipython3",
   "version": "3.7.7-final"
  },
  "orig_nbformat": 2,
  "kernelspec": {
   "name": "python37764bit3778a1df396b4d6c9e4b8a52fb936000",
   "display_name": "Python 3.7.7 64-bit"
  }
 },
 "nbformat": 4,
 "nbformat_minor": 2
}